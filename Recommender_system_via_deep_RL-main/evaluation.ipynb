{
 "cells": [
  {
   "cell_type": "code",
   "execution_count": null,
   "outputs": [],
   "source": [
    "#Dependencies\n",
    "import pandas as pd\n",
    "import numpy as np\n",
    "import tensorflow as tf\n",
    "import itertools\n",
    "import matplotlib.pyplot as plt\n",
    "import time\n",
    "\n",
    "from envs import OfflineEnv\n",
    "from recommender import DRRAgent\n",
    "\n",
    "import os\n",
    "\n",
    "ROOT_DIR = os.getcwd()\n",
    "DATA_DIR = os.path.join(ROOT_DIR, 'ml-1m/')\n",
    "STATE_SIZE = 10"
   ],
   "metadata": {
    "collapsed": false,
    "pycharm": {
     "name": "#%%\n"
    }
   }
  },
  {
   "cell_type": "code",
   "execution_count": null,
   "outputs": [],
   "source": [
    "#Loading datasets\n",
    "ratings_list = [i.strip().split(\"::\") for i in open(os.path.join(DATA_DIR,'ratings.dat'), 'r').readlines()]\n",
    "users_list = [i.strip().split(\"::\") for i in open(os.path.join(DATA_DIR,'users.dat'), 'r').readlines()]\n",
    "movies_list = [i.strip().split(\"::\") for i in open(os.path.join(DATA_DIR,'movies.dat'),encoding='latin-1').readlines()]\n",
    "ratings_df = pd.DataFrame(ratings_list, columns = ['UserID', 'MovieID', 'Rating', 'Timestamp'], dtype = np.uint32)\n",
    "movies_df = pd.DataFrame(movies_list, columns = ['MovieID', 'Title', 'Genres'])\n",
    "movies_df['MovieID'] = movies_df['MovieID'].apply(pd.to_numeric)"
   ],
   "metadata": {
    "collapsed": false,
    "pycharm": {
     "name": "#%%\n"
    }
   }
  },
  {
   "cell_type": "code",
   "execution_count": null,
   "outputs": [],
   "source": [
    "# 영화 id를 영화 제목으로\n",
    "movies_id_to_movies = {movie[0]: movie[1:] for movie in movies_list}"
   ],
   "metadata": {
    "collapsed": false,
    "pycharm": {
     "name": "#%%\n"
    }
   }
  },
  {
   "cell_type": "code",
   "execution_count": null,
   "outputs": [],
   "source": [
    "len(movies_list)"
   ],
   "metadata": {
    "collapsed": false,
    "pycharm": {
     "name": "#%%\n"
    }
   }
  },
  {
   "cell_type": "code",
   "execution_count": null,
   "outputs": [],
   "source": [
    "ratings_df.head(5)"
   ],
   "metadata": {
    "collapsed": false,
    "pycharm": {
     "name": "#%%\n"
    }
   }
  },
  {
   "cell_type": "code",
   "execution_count": null,
   "outputs": [],
   "source": [
    "# # 사용자가 선택한 영화 분포 확인\n",
    "# plt.figure(figsize=(20,10))\n",
    "# plt.hist(ratings_df[\"MovieID\"], bins=3883)\n",
    "# plt.show()"
   ],
   "metadata": {
    "collapsed": false,
    "pycharm": {
     "name": "#%%\n"
    }
   }
  },
  {
   "cell_type": "code",
   "execution_count": null,
   "outputs": [],
   "source": [
    "# 결측치 확인\n",
    "ratings_df.isnull().sum()"
   ],
   "metadata": {
    "collapsed": false,
    "pycharm": {
     "name": "#%%\n"
    }
   }
  },
  {
   "cell_type": "code",
   "execution_count": null,
   "outputs": [],
   "source": [
    "# 최대값 확인\n",
    "print(len(set(ratings_df[\"UserID\"])) == max([int(i) for i in set(ratings_df[\"UserID\"])]))\n",
    "print(max([int(i) for i in set(ratings_df[\"UserID\"])]))"
   ],
   "metadata": {
    "collapsed": false,
    "pycharm": {
     "name": "#%%\n"
    }
   }
  },
  {
   "cell_type": "code",
   "execution_count": null,
   "outputs": [],
   "source": [
    "ratings_df = ratings_df.applymap(int)"
   ],
   "metadata": {
    "collapsed": false,
    "pycharm": {
     "name": "#%%\n"
    }
   }
  },
  {
   "cell_type": "code",
   "execution_count": null,
   "outputs": [],
   "source": [
    "# 유저별로 본 영화들 순서대로 정리\n",
    "users_dict = {user : [] for user in set(ratings_df[\"UserID\"])}\n",
    "users_dict[1]"
   ],
   "metadata": {
    "collapsed": false,
    "pycharm": {
     "name": "#%%\n"
    }
   }
  },
  {
   "cell_type": "code",
   "execution_count": null,
   "outputs": [],
   "source": [
    "# 시간 순으로 정렬하기\n",
    "ratings_df = ratings_df.sort_values(by='Timestamp', ascending=True)\n",
    "ratings_df.head(5)"
   ],
   "metadata": {
    "collapsed": false,
    "pycharm": {
     "name": "#%%\n"
    }
   }
  },
  {
   "cell_type": "code",
   "execution_count": null,
   "outputs": [],
   "source": [
    "# 유저 딕셔너리에 (영화, 평점)쌍 넣기\n",
    "# 각 유저별 영화 히스토리 길이를 평점 4이상인 영화만 카운트\n",
    "ratings_df_gen = ratings_df.iterrows()\n",
    "users_dict_for_history_len = {user : [] for user in set(ratings_df[\"UserID\"])}\n",
    "for data in ratings_df_gen:\n",
    "    users_dict[data[1]['UserID']].append((data[1]['MovieID'], data[1]['Rating']))\n",
    "    if data[1]['Rating'] >= 4:\n",
    "        users_dict_for_history_len[data[1]['UserID']].append((data[1]['MovieID'], data[1]['Rating']))"
   ],
   "metadata": {
    "collapsed": false,
    "pycharm": {
     "name": "#%%\n"
    }
   }
  },
  {
   "cell_type": "code",
   "execution_count": null,
   "outputs": [],
   "source": [
    "# 각 유저별 영화 히스토리 길이\n",
    "users_history_lens = [len(users_dict_for_history_len[u]) for u in set(ratings_df[\"UserID\"])]"
   ],
   "metadata": {
    "collapsed": false,
    "pycharm": {
     "name": "#%%\n"
    }
   }
  },
  {
   "cell_type": "code",
   "execution_count": null,
   "outputs": [],
   "source": [
    "len(users_history_lens)"
   ],
   "metadata": {
    "collapsed": false,
    "pycharm": {
     "name": "#%%\n"
    }
   }
  },
  {
   "cell_type": "code",
   "execution_count": null,
   "outputs": [],
   "source": [
    "users_dict[1]"
   ],
   "metadata": {
    "collapsed": false,
    "pycharm": {
     "name": "#%%\n"
    }
   }
  },
  {
   "cell_type": "code",
   "execution_count": null,
   "outputs": [],
   "source": [
    "np.save(\"./data/user_dict.npy\", users_dict)\n",
    "np.save(\"./data/users_histroy_len.npy\", users_history_lens)"
   ],
   "metadata": {
    "collapsed": false,
    "pycharm": {
     "name": "#%%\n"
    }
   }
  },
  {
   "cell_type": "code",
   "execution_count": null,
   "outputs": [],
   "source": [
    "users_num = max(ratings_df[\"UserID\"])+1\n",
    "items_num = max(ratings_df[\"MovieID\"])+1"
   ],
   "metadata": {
    "collapsed": false,
    "pycharm": {
     "name": "#%%\n"
    }
   }
  },
  {
   "cell_type": "code",
   "execution_count": null,
   "outputs": [],
   "source": [
    "print(users_num, items_num)"
   ],
   "metadata": {
    "collapsed": false,
    "pycharm": {
     "name": "#%%\n"
    }
   }
  },
  {
   "cell_type": "markdown",
   "source": [
    "### Training setting"
   ],
   "metadata": {
    "collapsed": false
   }
  },
  {
   "cell_type": "code",
   "execution_count": null,
   "outputs": [],
   "source": [
    "train_users_num = int(users_num * 0.8)\n",
    "train_items_num = items_num\n",
    "print(train_users_num, train_items_num)"
   ],
   "metadata": {
    "collapsed": false,
    "pycharm": {
     "name": "#%%\n"
    }
   }
  },
  {
   "cell_type": "code",
   "execution_count": null,
   "outputs": [],
   "source": [
    "train_users_dict = {k:users_dict[k] for k in range(1, train_users_num+1)}\n",
    "train_users_history_lens = users_history_lens[:train_users_num]\n",
    "print(len(train_users_dict),len(train_users_history_lens))"
   ],
   "metadata": {
    "collapsed": false,
    "pycharm": {
     "name": "#%%\n"
    }
   }
  },
  {
   "cell_type": "markdown",
   "source": [
    "### Evaluating setting"
   ],
   "metadata": {
    "collapsed": false
   }
  },
  {
   "cell_type": "code",
   "execution_count": null,
   "outputs": [],
   "source": [
    "eval_users_num = int(users_num * 0.2)\n",
    "eval_items_num = items_num\n",
    "print(eval_users_num, eval_items_num)"
   ],
   "metadata": {
    "collapsed": false,
    "pycharm": {
     "name": "#%%\n"
    }
   }
  },
  {
   "cell_type": "code",
   "execution_count": null,
   "outputs": [],
   "source": [
    "eval_users_dict = {k:users_dict[k] for k in range(users_num-eval_users_num, users_num)}\n",
    "eval_users_history_lens = users_history_lens[-eval_users_num:]\n",
    "print(len(eval_users_dict),len(eval_users_history_lens))"
   ],
   "metadata": {
    "collapsed": false,
    "pycharm": {
     "name": "#%%\n"
    }
   }
  },
  {
   "cell_type": "markdown",
   "source": [
    "### 준비된것\n",
    "users_dict, users_history_len, movies_id_to_movies, sers_num, items_num"
   ],
   "metadata": {
    "collapsed": false
   }
  },
  {
   "cell_type": "markdown",
   "source": [
    "### Evalutation"
   ],
   "metadata": {
    "collapsed": false
   }
  },
  {
   "cell_type": "code",
   "execution_count": null,
   "outputs": [],
   "source": [
    "def evaluate(recommender, env, check_movies = False, top_k=False):\n",
    "\n",
    "    # episodic reward 리셋\n",
    "    episode_reward = 0\n",
    "    steps = 0\n",
    "    mean_precision = 0\n",
    "    mean_ndcg = 0\n",
    "    # Environment 리셋\n",
    "    user_id, items_ids, done = env.reset()\n",
    "    if check_movies:\n",
    "        print(f'user_id : {user_id}, rated_items_length:{len(env.user_items)}')\n",
    "        print('items : \\n', np.array(env.get_items_names(items_ids)))\n",
    "\n",
    "    while not done:\n",
    "\n",
    "        # Observe current state & Find action\n",
    "        ## Embedding 해주기\n",
    "        user_eb = recommender.embedding_network.get_layer('user_embedding')(np.array(user_id))\n",
    "        items_eb = recommender.embedding_network.get_layer('movie_embedding')(np.array(items_ids))\n",
    "        ## SRM으로 state 출력\n",
    "        state = recommender.srm_ave([np.expand_dims(user_eb, axis=0), np.expand_dims(items_eb, axis=0)])\n",
    "        ## Action(ranking score) 출력\n",
    "        action = recommender.actor.network(state)\n",
    "        ## Item 추천\n",
    "        recommended_item = recommender.recommend_item(action, env.recommended_items, top_k=top_k)\n",
    "        if check_movies:\n",
    "            print(f'recommended items ids : {recommended_item}')\n",
    "            print(f'recommened items : \\n {np.array(env.get_items_names(recommended_item), dtype=object)}')\n",
    "        # Calculate reward & observe new state (in env)\n",
    "        ## Step\n",
    "        next_items_ids, reward, done, _ = env.step(recommended_item, top_k=top_k)\n",
    "        if top_k:\n",
    "            correct_list = [1 if r > 0 else 0 for r in reward]\n",
    "            # ndcg\n",
    "            dcg, idcg = calculate_ndcg(correct_list, [1 for _ in range(len(reward))])\n",
    "            mean_ndcg += dcg/idcg\n",
    "            \n",
    "            #precision\n",
    "            correct_num = top_k-correct_list.count(0)\n",
    "            mean_precision += correct_num/top_k\n",
    "            \n",
    "        reward = np.sum(reward)\n",
    "        items_ids = next_items_ids\n",
    "        episode_reward += reward\n",
    "        steps += 1\n",
    "        \n",
    "        if check_movies:\n",
    "            print(f'precision : {correct_num/top_k}, dcg : {dcg:0.3f}, idcg : {idcg:0.3f}, ndcg : {dcg/idcg:0.3f}, reward : {reward}')\n",
    "            print()\n",
    "        break\n",
    "    \n",
    "    if check_movies:\n",
    "        print(f'precision : {mean_precision/steps}, ngcg : {mean_ndcg/steps}, episode_reward : {episode_reward}')\n",
    "        print()\n",
    "    \n",
    "    return mean_precision/steps, mean_ndcg/steps\n",
    "\n",
    "def calculate_ndcg(rel, irel):\n",
    "    dcg = 0\n",
    "    idcg = 0\n",
    "    rel = [1 if r>0 else 0 for r in rel]\n",
    "    for i, (r, ir) in enumerate(zip(rel, irel)):\n",
    "        dcg += (r)/np.log2(i+2)\n",
    "        idcg += (ir)/np.log2(i+2)\n",
    "    return dcg, idcg"
   ],
   "metadata": {
    "collapsed": false,
    "pycharm": {
     "name": "#%%\n"
    }
   }
  },
  {
   "cell_type": "code",
   "execution_count": null,
   "outputs": [],
   "source": [
    "tf.keras.backend.set_floatx('float64')"
   ],
   "metadata": {
    "collapsed": false,
    "pycharm": {
     "name": "#%%\n"
    }
   }
  },
  {
   "cell_type": "code",
   "execution_count": null,
   "outputs": [],
   "source": [
    "sum_precision = 0\n",
    "sum_ndcg = 0\n",
    "TOP_K = 10\n",
    "\n",
    "for user_id in eval_users_dict.keys():\n",
    "    env = OfflineEnv(eval_users_dict, users_history_lens, movies_id_to_movies, STATE_SIZE, fix_user_id=user_id)\n",
    "    recommender = DRRAgent(env, users_num, items_num, STATE_SIZE)\n",
    "    recommender.actor.build_networks()\n",
    "    recommender.critic.build_networks()\n",
    "    recommender.load_model(r'G:\\pythonDeepLearning\\Recommender_system_via_deep_RL-main\\save_weights\\actor_8000_fixed.h5',\n",
    "                           r'G:\\pythonDeepLearning\\Recommender_system_via_deep_RL-main\\save_weights\\critic_8000_fixed.h5')\n",
    "    precision, ndcg = evaluate(recommender, env, top_k=TOP_K)\n",
    "    sum_precision += precision\n",
    "    sum_ndcg += ndcg\n",
    "    \n",
    "print(f'precision@{TOP_K} : {sum_precision/len(eval_users_dict)}, ndcg@{TOP_K} : {sum_ndcg/len(eval_users_dict)}')"
   ],
   "metadata": {
    "collapsed": false,
    "pycharm": {
     "name": "#%%\n"
    }
   }
  },
  {
   "cell_type": "code",
   "execution_count": null,
   "outputs": [],
   "source": [
    "sum_precision = 0\n",
    "sum_ndcg = 0\n",
    "TOP_K = 10\n",
    "\n",
    "for user_id in eval_users_dict.keys():\n",
    "    env = OfflineEnv(eval_users_dict, users_history_lens, movies_id_to_movies, STATE_SIZE, fix_user_id=user_id)\n",
    "    recommender = DRRAgent(env, users_num, items_num, STATE_SIZE)\n",
    "    recommender.actor.build_networks()\n",
    "    recommender.critic.build_networks()\n",
    "    recommender.load_model(r'G:\\pythonDeepLearning\\Recommender_system_via_deep_RL-main\\save_weights\\actor_{episode+1}_fixed.h5',\n",
    "                           r'G:\\pythonDeepLearning\\Recommender_system_via_deep_RL-main\\save_weights\\critic_{episode+1}_fixed.h5')\n",
    "    precision, ndcg = evaluate(recommender, env, 10)\n",
    "    sum_precision += precision\n",
    "    sum_ndcg += ndcg\n",
    "    \n",
    "print(f'precision@{TOP_K} : {sum_precision/len(eval_users_dict)}, ndcg@{TOP_K} : {sum_ndcg/len(eval_users_dict)}')"
   ],
   "metadata": {
    "collapsed": false,
    "pycharm": {
     "name": "#%%\n"
    }
   }
  },
  {
   "cell_type": "code",
   "execution_count": null,
   "outputs": [],
   "source": [],
   "metadata": {
    "collapsed": false,
    "pycharm": {
     "name": "#%%\n"
    }
   }
  },
  {
   "cell_type": "code",
   "execution_count": null,
   "outputs": [],
   "source": [],
   "metadata": {
    "collapsed": false,
    "pycharm": {
     "name": "#%%\n"
    }
   }
  },
  {
   "cell_type": "code",
   "execution_count": null,
   "outputs": [],
   "source": [],
   "metadata": {
    "collapsed": false,
    "pycharm": {
     "name": "#%%\n"
    }
   }
  },
  {
   "cell_type": "code",
   "execution_count": null,
   "outputs": [],
   "source": [],
   "metadata": {
    "collapsed": false,
    "pycharm": {
     "name": "#%%\n"
    }
   }
  }
 ],
 "metadata": {
  "colab": {
   "collapsed_sections": [],
   "include_colab_link": true,
   "machine_shape": "hm",
   "name": "RL_ActorCritic_DDPG_Movie_Recommendation.ipynb",
   "provenance": []
  },
  "kernelspec": {
   "display_name": "Python 3",
   "language": "python",
   "name": "python3"
  },
  "language_info": {
   "codemirror_mode": {
    "name": "ipython",
    "version": 3
   },
   "file_extension": ".py",
   "mimetype": "text/x-python",
   "name": "python",
   "nbconvert_exporter": "python",
   "pygments_lexer": "ipython3",
   "version": "3.8.5"
  }
 },
 "nbformat": 4,
 "nbformat_minor": 1
}